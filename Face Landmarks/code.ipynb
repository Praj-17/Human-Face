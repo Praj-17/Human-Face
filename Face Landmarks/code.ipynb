{
 "cells": [
  {
   "cell_type": "code",
   "execution_count": 1,
   "metadata": {},
   "outputs": [
    {
     "name": "stdout",
     "output_type": "stream",
     "text": [
      "[{'chin': [(267, 474), (271, 546), (274, 614), (283, 683), (309, 746), (354, 793), (412, 834), (479, 862), (553, 869), (617, 859), (667, 823), (709, 773), (739, 719), (757, 661), (766, 602), (771, 542), (771, 485)], 'left_eyebrow': [(357, 419), (393, 388), (445, 372), (497, 378), (540, 402)], 'right_eyebrow': [(608, 406), (647, 387), (692, 381), (734, 398), (754, 434)], 'nose_bridge': [(578, 438), (583, 472), (589, 507), (594, 544)], 'nose_tip': [(515, 573), (547, 582), (581, 591), (611, 584), (637, 576)], 'left_eye': [(409, 444), (437, 433), (465, 433), (494, 448), (465, 448), (437, 447)], 'right_eye': [(627, 451), (655, 439), (682, 441), (705, 456), (680, 457), (655, 455)], 'top_lip': [(442, 661), (489, 635), (541, 627), (575, 635), (605, 628), (641, 636), (670, 663), (659, 664), (605, 651), (574, 653), (539, 651), (456, 660)], 'bottom_lip': [(670, 663), (639, 699), (603, 713), (571, 715), (535, 712), (486, 699), (442, 661), (456, 660), (538, 684), (573, 687), (604, 685), (659, 664)]}]\n"
     ]
    }
   ],
   "source": [
    "import face_recognition\n",
    "from PIL import Image, ImageDraw\n",
    "\n",
    "\n",
    "\n",
    "#load the image file\n",
    "\n",
    "image = face_recognition.load_image_file('modi2.jpg')\n",
    "\n",
    "#get the landmarks\n",
    "face_landmarks = face_recognition.face_landmarks(image)\n",
    "print(face_landmarks)\n",
    "\n",
    "for face_landmark in face_landmarks:\n",
    "    pil_image = Image.fromarray(image)\n",
    "    drawing = ImageDraw.Draw(pil_image)\n",
    "    drawing.line(face_landmark['chin'],fill = (0,255,0),width =3)\n",
    "    drawing.line(face_landmark['left_eyebrow'],fill = (0,255,0),width =3)\n",
    "    drawing.line(face_landmark['right_eyebrow'],fill = (0,255,0),width =3)\n",
    "    drawing.line(face_landmark['nose_bridge'],fill = (0,255,0),width =3)\n",
    "    drawing.line(face_landmark['nose_tip'],fill = (0,255,0),width =3)\n",
    "    drawing.line(face_landmark['left_eye'],fill = (0,255,0),width =3)\n",
    "    drawing.line(face_landmark['right_eye'],fill = (0,255,0),width =3)\n",
    "    drawing.line(face_landmark['top_lip'],fill = (0,255,0),width =3)\n",
    "    drawing.line(face_landmark['bottom_lip'],fill = (0,255,0),width =3)\n",
    "pil_image.show()\n",
    "pil_image.save(\"edited.jpg\")"
   ]
  }
 ],
 "metadata": {
  "interpreter": {
   "hash": "941096ab4a304f3509822dba92ee1d36e30c4bf17f0e34fdfd12300d4a2ccfca"
  },
  "kernelspec": {
   "display_name": "Python 3.9.7 64-bit",
   "language": "python",
   "name": "python3"
  },
  "language_info": {
   "codemirror_mode": {
    "name": "ipython",
    "version": 3
   },
   "file_extension": ".py",
   "mimetype": "text/x-python",
   "name": "python",
   "nbconvert_exporter": "python",
   "pygments_lexer": "ipython3",
   "version": "3.9.7"
  },
  "orig_nbformat": 4
 },
 "nbformat": 4,
 "nbformat_minor": 2
}
